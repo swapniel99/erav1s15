{
 "cells": [
  {
   "cell_type": "code",
   "execution_count": 1,
   "id": "b1da9e90-5c10-42ba-a075-3dab9e4d5dfd",
   "metadata": {},
   "outputs": [],
   "source": [
    "import torch\n",
    "from torch.utils.data import DataLoader\n",
    "from model import Model"
   ]
  },
  {
   "cell_type": "code",
   "execution_count": 2,
   "id": "e546a278-13b7-4712-a460-1dd105f725f0",
   "metadata": {},
   "outputs": [],
   "source": [
    "model = Model()\n",
    "model.setup('fit')"
   ]
  },
  {
   "cell_type": "code",
   "execution_count": 3,
   "id": "ac8bf93e-5c74-47ab-9abf-4dda8ee24781",
   "metadata": {},
   "outputs": [],
   "source": [
    "ckpt = torch.load('last.ckpt', map_location='cpu')"
   ]
  },
  {
   "cell_type": "code",
   "execution_count": 4,
   "id": "c6496b0f-85ad-4c93-bedb-af4dc09d2508",
   "metadata": {},
   "outputs": [
    {
     "data": {
      "text/plain": [
       "<All keys matched successfully>"
      ]
     },
     "execution_count": 4,
     "metadata": {},
     "output_type": "execute_result"
    }
   ],
   "source": [
    "model.load_state_dict(ckpt['state_dict'])"
   ]
  },
  {
   "cell_type": "code",
   "execution_count": 5,
   "id": "1c107d77-5e6f-477e-aa43-a16b8dbf014b",
   "metadata": {},
   "outputs": [],
   "source": [
    "from utils import run_validation"
   ]
  },
  {
   "cell_type": "code",
   "execution_count": 8,
   "id": "a2b9b4e6-c18f-4d52-af4a-2710fd5683e7",
   "metadata": {},
   "outputs": [],
   "source": [
    "val_dataloader = DataLoader(model.val_ds, batch_size=1, shuffle=True, num_workers=0, pin_memory=True)"
   ]
  },
  {
   "cell_type": "code",
   "execution_count": 9,
   "id": "c22f998e-8117-4caf-a0dd-4322b893f6e3",
   "metadata": {},
   "outputs": [
    {
     "name": "stderr",
     "output_type": "stream",
     "text": [
      "stty: stdin isn't a terminal\n"
     ]
    },
    {
     "name": "stdout",
     "output_type": "stream",
     "text": [
      "--------------------------------------------------------------------------------\n",
      "    SOURCE: They have a worth--so I have always believed; and if I cannot believe it now, it is because I am insane--quite insane: with my veins running fire, and my heart beating faster than I can count its throbs.\n",
      "    TARGET: Hanno un valore, l'ho sempre creduto e se ora non lo credo, si è perché sono pazza, perché nelle vene mi corre il fuoco, perché il cuore batte da scoppiare.\n",
      " PREDICTED: \" È un ' altra cosa , perché sono sempre felice , perché non posso , e credo che sono sempre più felice , perché sono sempre più felice , e sono sempre più felice , perché sono sempre più felice di me .\n",
      "--------------------------------------------------------------------------------\n",
      "    SOURCE: We'll make the best bag,' chimed in Vasenka.\n",
      "    TARGET: Lo vinceremo nel tiro! Su, andiamo, andiamo, andiamo! — rincalzò Vasen’ka.\n",
      " PREDICTED: — , — rispose il colonnello .\n",
      "--------------------------------------------------------------------------------\n",
      "    SOURCE: 'Why are you so late?' asked the old Prince with a smile, holding out his hand over his shoulder. 'How is Kitty?' he added, smoothing the table-napkin, which he had tucked in behind a button of his waistcoat.\n",
      "    TARGET: — Ah, come, sei in ritardo? — disse, sorridendo, il principe, dandogli la mano al di sopra della spalla. — Come va Kitty? — aggiunse, accomodando il tovagliolo che s’era messo dietro il bottone del panciotto.\n",
      " PREDICTED: — Avete parlato ? — disse , indicando il principe , indicando la mano con un sorriso di un sorriso che era venuto a un ’ occhiata a un tratto . — Dove sei venuto ? — disse , indicando la mano , indicando la mano di Kitty , indicando la mano con un sorriso di sotto la mano .\n",
      "--------------------------------------------------------------------------------\n",
      "    SOURCE: \"But why are you come?\" I could not forbear saying.\n",
      "    TARGET: — Ma perché siete venuto? — non potei trattenermi dal dirgli.\n",
      " PREDICTED: — Ma non vi sono ? — domandai .\n",
      "--------------------------------------------------------------------------------\n",
      "    SOURCE: She was not allowed much time for meditation: a monitor, a great rough girl, presently came up, exclaiming in a strong Cumberland accent--\n",
      "    TARGET: Però non le fu lasciato molto tempo per meditare. Una monitrice, appena avevamo cessato di parlare, venne a dirle:\n",
      " PREDICTED: Era un ' altra volta , con un ' altra ragazza , che non era un ' altra volta , ma un ' altra volta , con un ' altra volta , con un ' altra volta , con un ' altra volta , con un ' altra volta , che era stata .\n",
      "--------------------------------------------------------------------------------\n",
      "    SOURCE: \"But two months: they met in October at the county ball at S-.\n",
      "    TARGET: — Da due mesi solamente; si sono incontrati in ottobre al ballo di S...\n",
      " PREDICTED: Ma in quel momento si fece dire : “ Ma come si ”.\n",
      "--------------------------------------------------------------------------------\n",
      "    SOURCE: \"No, Miss Jane, not exactly: you are genteel enough; you look like a lady, and it is as much as ever I expected of you: you were no beauty as a child.\"\n",
      "    TARGET: — No, signorina Jane; siete carina, avete l'aspetto di una signorina, e così credevo che sareste divenuta. Non eravate una bellezza da piccina.\n",
      " PREDICTED: — No , signore , non vi piace , non vi piace ; non vi piace ; non vi piace , perché non siete stata un ' altra parola , perché non vi piace .\n",
      "--------------------------------------------------------------------------------\n",
      "    SOURCE: All this was torture to me--refined, lingering torture. It kept up a slow fire of indignation and a trembling trouble of grief, which harassed and crushed me altogether.\n",
      "    TARGET: Tutto questo era per me una tortura dolorosa e raffinata, e mi teneva in uno stato di ardente indignazione e di continuo dolore.\n",
      " PREDICTED: Mi pareva che una persona strana , che mi faceva un ' altra , che mi pareva un ' altra , e che mi faceva bene , e che mi pareva .\n",
      "--------------------------------------------------------------------------------\n",
      "    SOURCE: He shrugged his shoulders with a bewildered and despairing look.\n",
      "    TARGET: Egli si strinse nelle spalle con aria perplessa e desolata.\n",
      " PREDICTED: Egli si alzò e si mise a guardare il capo con un sorriso .\n",
      "--------------------------------------------------------------------------------\n",
      "    SOURCE: He was certainly a good-natured fellow, and Levin felt sorry for him and ashamed of himself as a host when he noticed the shyness of Vasenka's look.\n",
      "    TARGET: Era senza dubbio un buon ragazzo, e Levin provò pena per lui e vergogna per sé, padrone di casa, quando notò la timidezza nello sguardo di Vasen’ka.\n",
      " PREDICTED: Levin si sentiva di parlare e , quando vide un uomo che aveva fatto un uomo di cuore , quando lo guardava un uomo di cui si sentiva bene e si sentiva a un tratto .\n",
      "--------------------------------------------------------------------------------\n"
     ]
    }
   ],
   "source": [
    "run_validation(model, val_dataloader, print, num_examples=10)"
   ]
  },
  {
   "cell_type": "code",
   "execution_count": null,
   "id": "ddbdb4e4-f01a-4b99-b40e-84ff03ac5961",
   "metadata": {},
   "outputs": [],
   "source": []
  }
 ],
 "metadata": {
  "kernelspec": {
   "display_name": "Python 3 (ipykernel)",
   "language": "python",
   "name": "python3"
  },
  "language_info": {
   "codemirror_mode": {
    "name": "ipython",
    "version": 3
   },
   "file_extension": ".py",
   "mimetype": "text/x-python",
   "name": "python",
   "nbconvert_exporter": "python",
   "pygments_lexer": "ipython3",
   "version": "3.11.4"
  }
 },
 "nbformat": 4,
 "nbformat_minor": 5
}
