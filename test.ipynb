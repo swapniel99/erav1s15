{
 "cells": [
  {
   "cell_type": "code",
   "execution_count": 1,
   "id": "b1da9e90-5c10-42ba-a075-3dab9e4d5dfd",
   "metadata": {},
   "outputs": [],
   "source": [
    "import torch\n",
    "from torch.utils.data import DataLoader\n",
    "from model import Model"
   ]
  },
  {
   "cell_type": "code",
   "execution_count": 2,
   "id": "e546a278-13b7-4712-a460-1dd105f725f0",
   "metadata": {},
   "outputs": [],
   "source": [
    "model = Model()\n",
    "model.setup('fit')"
   ]
  },
  {
   "cell_type": "code",
   "execution_count": 3,
   "id": "ac8bf93e-5c74-47ab-9abf-4dda8ee24781",
   "metadata": {},
   "outputs": [],
   "source": [
    "ckpt = torch.load('last.ckpt', map_location='cpu')"
   ]
  },
  {
   "cell_type": "code",
   "execution_count": 4,
   "id": "c6496b0f-85ad-4c93-bedb-af4dc09d2508",
   "metadata": {},
   "outputs": [
    {
     "data": {
      "text/plain": [
       "<All keys matched successfully>"
      ]
     },
     "execution_count": 4,
     "metadata": {},
     "output_type": "execute_result"
    }
   ],
   "source": [
    "model.load_state_dict(ckpt['state_dict'])"
   ]
  },
  {
   "cell_type": "code",
   "execution_count": 5,
   "id": "1c107d77-5e6f-477e-aa43-a16b8dbf014b",
   "metadata": {},
   "outputs": [],
   "source": [
    "from utils import run_validation"
   ]
  },
  {
   "cell_type": "code",
   "execution_count": 6,
   "id": "a2b9b4e6-c18f-4d52-af4a-2710fd5683e7",
   "metadata": {},
   "outputs": [],
   "source": [
    "val_dataloader = DataLoader(model.val_ds, batch_size=1, shuffle=True, num_workers=0, pin_memory=True)"
   ]
  },
  {
   "cell_type": "code",
   "execution_count": 11,
   "id": "c22f998e-8117-4caf-a0dd-4322b893f6e3",
   "metadata": {},
   "outputs": [
    {
     "name": "stderr",
     "output_type": "stream",
     "text": [
      "stty: stdin isn't a terminal\n"
     ]
    },
    {
     "name": "stdout",
     "output_type": "stream",
     "text": [
      "--------------------------------------------------------------------------------\n",
      "    SOURCE: \"My heart is mute,--my heart is mute,\" I answered, struck and thrilled.\n",
      "    TARGET: — Il mio cuore è muto, muto, — risposi tremando.\n",
      " PREDICTED: — Il cuore è cuore , — risposi , — è il cuore , e il cuore è cuore .\n",
      "--------------------------------------------------------------------------------\n",
      "    SOURCE: \"Which, if you like, you have, in my opinion, a right to keep, both from St. John and every other questioner,\" remarked Diana.\n",
      "    TARGET: — E secondo me avete diritto di serbarlo e di non rispondere né a Saint-John, né agli altri indiscreti, — osservò Diana.\n",
      " PREDICTED: — Ma , — dissi , — vi piace , — e voi , se voi siete sempre buona , se voi , come sempre , e voi , sempre , e sempre , come sempre , se voi fosse sempre , e sempre .\n",
      "--------------------------------------------------------------------------------\n",
      "    SOURCE: 'How do you do, Prince?' added the old man, shaking hands with some one who had just come up.\n",
      "    TARGET: — Buon giorno, principe! — disse il vecchietto, stringendo la mano a colui che si era avvicinato.\n",
      " PREDICTED: — Come , signore , è un uomo ? — disse il principe , sorridendo con un sorriso , con un sorriso .\n",
      "--------------------------------------------------------------------------------\n",
      "    SOURCE: \"Why are you silent, Jane?\"\n",
      "    TARGET: — Perché tacete, Jane?\n",
      " PREDICTED: — Perché , Jane ? — mi domandò .\n",
      "--------------------------------------------------------------------------------\n",
      "    SOURCE: 'What nonsense!' he thought, glancing at his watch.\n",
      "    TARGET: “Che sciocchezza!” pensò Vronskij, e guardò l’ora.\n",
      " PREDICTED: “ Che cosa è !” pensava , guardando il viso di lei .\n",
      "--------------------------------------------------------------------------------\n",
      "    SOURCE: Then he heard the sound of two childish voices outside the door, and recognized them as the voices of his eldest daughter, Tanya, and of his little boy Grisha.\n",
      "    TARGET: Due voci infantili (Stepan Arkad’ic riconobbe le voci di Griša, il più piccolo, e di Tanja, la maggiore) si udirono dietro la porta.\n",
      " PREDICTED: E , dopo aver guardato il capo , si alzò e , si alzò e due due si mise a guardare il capo , e si mise a guardare il suono di nuovo il suono di nuovo .\n",
      "--------------------------------------------------------------------------------\n",
      "    SOURCE: It is quite impossible.\n",
      "    TARGET: È proprio una cosa impossibile.\n",
      " PREDICTED: Non è vero .\n",
      "--------------------------------------------------------------------------------\n",
      "    SOURCE: I said it was the sort of thing I had often longed for myself; and we discussed the possibility of our going away, we four, to some handy, well-fitted desert island, and living there in the woods.\n",
      "    TARGET: Io osservai che era proprio quello che avevo sempre desiderato per me; e noi discutemmo la possibilità di andarcene, noi quattro, in qualche bell’isola deserta, a vivere nei boschi.\n",
      " PREDICTED: Io mi disse che , per quanto fosse stato stato stato stato stato stato stato , e che , per quanto ci fosse stato stato stato stato stato stato , e che , per quanto ci fosse il mio tempo , e che ci fosse stato stato stato per qualche tempo , e che ci fosse la mia vita , e che ci fosse la mia vita di cui ci fosse la mia vita .\n",
      "--------------------------------------------------------------------------------\n",
      "    SOURCE: She was very sorry to grieve her sister and to do anything that was unpleasant to Levin: she felt that they were right in not wishing to have anything to do with Vronsky, but felt it her duty to visit Anna and show her that the altered circumstances could not change her own feelings toward her.\n",
      "    TARGET: Le spiaceva molto addolorare la sorella e far cosa sgradita al marito di lei; capiva come avessero ragione i Levin a non desiderare d’avere nessun rapporto con i Vronskij; ma riteneva suo dovere stare un po’ da Anna e dimostrarle che i suoi sentimenti non potevano essere cambiati, malgrado la mutata situazione di lei.\n",
      " PREDICTED: Levin non poteva parlare di lei , ma Vronskij non poteva non pensare a nulla di lei , e , che Vronskij aveva notato che la sua posizione di lei era di lei , e che non poteva non poteva non poteva non essere nulla di nulla di lei , ma che Vronskij era di lei , e che Vronskij non poteva non poteva non poteva non poteva non poteva non poteva nulla di nulla di nulla di lei .\n",
      "--------------------------------------------------------------------------------\n",
      "    SOURCE: \"What is it?\n",
      "    TARGET: — Che cosa c’è?\n",
      " PREDICTED: — Che cosa cosa ?\n",
      "--------------------------------------------------------------------------------\n",
      "validation cer tensor(0.8975)\n",
      "validation wer tensor(1.6171)\n",
      "validation BLEU tensor(0.)\n"
     ]
    }
   ],
   "source": [
    "run_validation(model, val_dataloader, print, num_examples=10)"
   ]
  },
  {
   "cell_type": "code",
   "execution_count": null,
   "id": "ddbdb4e4-f01a-4b99-b40e-84ff03ac5961",
   "metadata": {},
   "outputs": [],
   "source": []
  }
 ],
 "metadata": {
  "kernelspec": {
   "display_name": "Python 3 (ipykernel)",
   "language": "python",
   "name": "python3"
  },
  "language_info": {
   "codemirror_mode": {
    "name": "ipython",
    "version": 3
   },
   "file_extension": ".py",
   "mimetype": "text/x-python",
   "name": "python",
   "nbconvert_exporter": "python",
   "pygments_lexer": "ipython3",
   "version": "3.11.4"
  }
 },
 "nbformat": 4,
 "nbformat_minor": 5
}
